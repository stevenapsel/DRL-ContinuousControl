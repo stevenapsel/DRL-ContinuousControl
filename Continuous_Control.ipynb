{
 "cells": [
  {
   "cell_type": "markdown",
   "metadata": {},
   "source": [
    "# Continuous Control\n",
    "\n",
    "---\n",
    "\n",
    "You are welcome to use this coding environment to train your agent for the project.  Follow the instructions below to get started!\n",
    "\n",
    "### 1. Start the Environment\n",
    "\n",
    "Run the next code cell to install a few packages.  This line will take a few minutes to run!"
   ]
  },
  {
   "cell_type": "code",
   "execution_count": 1,
   "metadata": {},
   "outputs": [
    {
     "name": "stdout",
     "output_type": "stream",
     "text": [
      "\u001b[31mtensorflow 1.7.1 has requirement numpy>=1.13.3, but you'll have numpy 1.12.1 which is incompatible.\u001b[0m\r\n",
      "\u001b[31mipython 6.5.0 has requirement prompt-toolkit<2.0.0,>=1.0.15, but you'll have prompt-toolkit 3.0.22 which is incompatible.\u001b[0m\r\n"
     ]
    }
   ],
   "source": [
    "!pip -q install ./python"
   ]
  },
  {
   "cell_type": "markdown",
   "metadata": {},
   "source": [
    "The environments corresponding to both versions of the environment are already saved in the Workspace and can be accessed at the file paths provided below.  \n",
    "\n",
    "Please select one of the two options below for loading the environment."
   ]
  },
  {
   "cell_type": "code",
   "execution_count": 2,
   "metadata": {},
   "outputs": [
    {
     "name": "stderr",
     "output_type": "stream",
     "text": [
      "INFO:unityagents:\n",
      "'Academy' started successfully!\n",
      "Unity Academy name: Academy\n",
      "        Number of Brains: 1\n",
      "        Number of External Brains : 1\n",
      "        Lesson number : 0\n",
      "        Reset Parameters :\n",
      "\t\tgoal_speed -> 1.0\n",
      "\t\tgoal_size -> 5.0\n",
      "Unity brain name: ReacherBrain\n",
      "        Number of Visual Observations (per agent): 0\n",
      "        Vector Observation space type: continuous\n",
      "        Vector Observation space size (per agent): 33\n",
      "        Number of stacked Vector Observation: 1\n",
      "        Vector Action space type: continuous\n",
      "        Vector Action space size (per agent): 4\n",
      "        Vector Action descriptions: , , , \n"
     ]
    }
   ],
   "source": [
    "from unityagents import UnityEnvironment\n",
    "import numpy as np\n",
    "import workspace_utils\n",
    "from workspace_utils import active_session\n",
    "import matplotlib.pyplot as plt\n",
    "%matplotlib inline\n",
    "\n",
    "# select this option to load version 1 (with a single agent) of the environment\n",
    "#env = UnityEnvironment(file_name='/data/Reacher_One_Linux_NoVis/Reacher_One_Linux_NoVis.x86_64')\n",
    "\n",
    "# select this option to load version 2 (with 20 agents) of the environment\n",
    "env = UnityEnvironment(file_name='/data/Reacher_Linux_NoVis/Reacher.x86_64')"
   ]
  },
  {
   "cell_type": "markdown",
   "metadata": {},
   "source": [
    "Environments contain **_brains_** which are responsible for deciding the actions of their associated agents. Here we check for the first brain available, and set it as the default brain we will be controlling from Python."
   ]
  },
  {
   "cell_type": "code",
   "execution_count": 3,
   "metadata": {},
   "outputs": [],
   "source": [
    "# get the default brain\n",
    "brain_name = env.brain_names[0]\n",
    "brain = env.brains[brain_name]"
   ]
  },
  {
   "cell_type": "markdown",
   "metadata": {},
   "source": [
    "### 2. Examine the State and Action Spaces\n",
    "\n",
    "Run the code cell below to print some information about the environment."
   ]
  },
  {
   "cell_type": "code",
   "execution_count": 4,
   "metadata": {},
   "outputs": [
    {
     "name": "stdout",
     "output_type": "stream",
     "text": [
      "Number of agents: 20\n",
      "Size of each action: 4\n",
      "There are 20 agents. Each observes a state with length: 33\n",
      "The state for the first agent looks like: [  0.00000000e+00  -4.00000000e+00   0.00000000e+00   1.00000000e+00\n",
      "  -0.00000000e+00  -0.00000000e+00  -4.37113883e-08   0.00000000e+00\n",
      "   0.00000000e+00   0.00000000e+00   0.00000000e+00   0.00000000e+00\n",
      "   0.00000000e+00   0.00000000e+00  -1.00000000e+01   0.00000000e+00\n",
      "   1.00000000e+00  -0.00000000e+00  -0.00000000e+00  -4.37113883e-08\n",
      "   0.00000000e+00   0.00000000e+00   0.00000000e+00   0.00000000e+00\n",
      "   0.00000000e+00   0.00000000e+00   5.75471878e+00  -1.00000000e+00\n",
      "   5.55726624e+00   0.00000000e+00   1.00000000e+00   0.00000000e+00\n",
      "  -1.68164849e-01]\n"
     ]
    }
   ],
   "source": [
    "# reset the environment\n",
    "env_info = env.reset(train_mode=True)[brain_name]\n",
    "\n",
    "# number of agents\n",
    "num_agents = len(env_info.agents)\n",
    "print('Number of agents:', num_agents)\n",
    "\n",
    "# size of each action\n",
    "action_size = brain.vector_action_space_size\n",
    "print('Size of each action:', action_size)\n",
    "\n",
    "# examine the state space \n",
    "states = env_info.vector_observations\n",
    "state_size = states.shape[1]\n",
    "print('There are {} agents. Each observes a state with length: {}'.format(states.shape[0], state_size))\n",
    "print('The state for the first agent looks like:', states[0])"
   ]
  },
  {
   "cell_type": "markdown",
   "metadata": {},
   "source": [
    "### 3. Take Random Actions in the Environment\n",
    "\n",
    "In the next code cell, you will learn how to use the Python API to control the agent and receive feedback from the environment.\n",
    "\n",
    "Note that **in this coding environment, you will not be able to watch the agents while they are training**, and you should set `train_mode=True` to restart the environment."
   ]
  },
  {
   "cell_type": "code",
   "execution_count": 5,
   "metadata": {},
   "outputs": [
    {
     "name": "stdout",
     "output_type": "stream",
     "text": [
      "Total score (averaged over agents) this episode: 0.09749999782070518\n"
     ]
    }
   ],
   "source": [
    "env_info = env.reset(train_mode=True)[brain_name]      # reset the environment    \n",
    "states = env_info.vector_observations                  # get the current state (for each agent)\n",
    "scores = np.zeros(num_agents)                          # initialize the score (for each agent)\n",
    "while True:\n",
    "    actions = np.random.randn(num_agents, action_size) # select an action (for each agent)\n",
    "    actions = np.clip(actions, -1, 1)                  # all actions between -1 and 1\n",
    "    env_info = env.step(actions)[brain_name]           # send all actions to tne environment\n",
    "    next_states = env_info.vector_observations         # get next state (for each agent)\n",
    "    rewards = env_info.rewards                         # get reward (for each agent)\n",
    "    dones = env_info.local_done                        # see if episode finished\n",
    "    scores += env_info.rewards                         # update the score (for each agent)\n",
    "    states = next_states                               # roll over states to next time step\n",
    "    if np.any(dones):                                  # exit loop if episode finished\n",
    "        break\n",
    "print('Total score (averaged over agents) this episode: {}'.format(np.mean(scores)))"
   ]
  },
  {
   "cell_type": "markdown",
   "metadata": {},
   "source": [
    "When finished, you can close the environment."
   ]
  },
  {
   "cell_type": "code",
   "execution_count": 6,
   "metadata": {},
   "outputs": [],
   "source": [
    "#env.close()"
   ]
  },
  {
   "cell_type": "markdown",
   "metadata": {},
   "source": [
    "### 4. It's Your Turn!\n",
    "\n",
    "Now it's your turn to train your own agent to solve the environment!  A few **important notes**:\n",
    "- When training the environment, set `train_mode=True`, so that the line for resetting the environment looks like the following:\n",
    "```python\n",
    "env_info = env.reset(train_mode=True)[brain_name]\n",
    "```\n",
    "- To structure your work, you're welcome to work directly in this Jupyter notebook, or you might like to start over with a new file!  You can see the list of files in the workspace by clicking on **_Jupyter_** in the top left corner of the notebook.\n",
    "- In this coding environment, you will not be able to watch the agents while they are training.  However, **_after training the agents_**, you can download the saved model weights to watch the agents on your own machine! "
   ]
  },
  {
   "cell_type": "code",
   "execution_count": 7,
   "metadata": {},
   "outputs": [],
   "source": [
    "import numpy as np\n",
    "import random\n",
    "import copy\n",
    "from collections import namedtuple, deque\n",
    "import torch\n",
    "import torch.nn as nn\n",
    "import torch.nn.functional as F\n",
    "import torch.optim as optim\n",
    "from model import Actor, Critic\n",
    "from ddpg_agent import Agent"
   ]
  },
  {
   "cell_type": "code",
   "execution_count": 8,
   "metadata": {},
   "outputs": [
    {
     "name": "stdout",
     "output_type": "stream",
     "text": [
      "Using:  cuda:0\n"
     ]
    }
   ],
   "source": [
    "agent = Agent(state_size=state_size, action_size=action_size, random_seed=99)"
   ]
  },
  {
   "cell_type": "code",
   "execution_count": 9,
   "metadata": {},
   "outputs": [],
   "source": [
    "def ddpg(n_episodes=1000, max_t=10000):\n",
    "    \"\"\"DDQN Algorithm.\n",
    "    \n",
    "    Params\n",
    "    ======\n",
    "        n_episodes (int): maximum number of training episodes\n",
    "        max_t (int): maximum number of timesteps per episode\n",
    "        print_every (int): frequency of printing information throughout iteration \"\"\"\n",
    "    \n",
    "    scores = []\n",
    "    time_stamp = 0\n",
    "    scores_deque = deque(maxlen=100)\n",
    "    \n",
    "    for i_episode in range(1, n_episodes+1):\n",
    "        env_info = env.reset(train_mode=True)[brain_name]\n",
    "        agent.reset()\n",
    "        #state = env_info.vector_observations[0]            # get the current state\n",
    "        states = env_info.vector_observations # get states for all the agents\n",
    "        #score = 0\n",
    "        score = np.zeros(num_agents)\n",
    "        \n",
    "        for t in range(max_t):\n",
    "            #action = agent.act(state)          # select an action\n",
    "            actions = agent.act(states)    # select actions for all agents\n",
    "       \n",
    "            #env_info = env.step(action)[brain_name]        # send the action to the environment\n",
    "            env_info = env.step(actions)[brain_name]    # send an action for every agent to the environment\n",
    "            #next_state = env_info.vector_observations[0]   # get the next state\n",
    "            next_states = env_info.vector_observations    # get the next states for each agent\n",
    "            #reward = env_info.rewards[0]                   # get the reward\n",
    "            rewards = env_info.rewards    # get the reward for each agent\n",
    "            #done = env_info.local_done[0]                  # see if episode has finished\n",
    "            dones = env_info.local_done    # check all agents to see if their episodes are finished\n",
    "            \n",
    "            #agent.step(state, action, reward, next_state, done) # take step with agent (including learning)\n",
    "            \n",
    "            for state, action, reward, next_state, done in zip(states, actions, rewards, next_states, dones):\n",
    "                agent.step(state, action, reward, next_state, done, time_stamp)\n",
    "            \n",
    "            #score += reward                                # update the score\n",
    "            score += rewards    # update the score for each agent\n",
    "            time_stamp += 1\n",
    "            #state = next_state                             # roll over the state to next time step\n",
    "            states = next_states    # update the state for each agent\n",
    "            \n",
    "            #if done:                                       # exit loop if episode finished\n",
    "            if np.any(dones):    # exit the loop if any of the episodes are finished\n",
    "                break\n",
    "        \n",
    "        #scores_deque.append(score)       # save most recent score\n",
    "        scores_deque.append(np.mean(score))\n",
    "        #scores.append(score)             # save most recent score\n",
    "        scores.append(np.mean(score))\n",
    "\n",
    "  #      print('\\rEpisode {}\\tScore: {:.2f}\\tAverage Score: {:.2f}'.format(i_episode, score, np.mean(scores_deque)))\n",
    "        print('\\rEpisode {}\\tMean Score: {:.2f}\\tMoving Average Score: {:.2f}'.format(i_episode, np.mean(score), np.mean(scores_deque)))\n",
    "        \n",
    "  #      print('\\rEpisode {}\\tAverage Score: {:.2f}'.format(i_episode, np.mean(scores_deque)))\n",
    "        torch.save(agent.actor_local.state_dict(), 'checkpoint_actor.pth')\n",
    "        torch.save(agent.critic_local.state_dict(), 'checkpoint_critic.pth')\n",
    "        \n",
    "        if np.mean(scores_deque)>=30.0:\n",
    "            print('\\nEnvironment solved in {:d} Episodes \\tAverage Score: {:.2f}'.format(i_episode, np.mean(scores_deque)))\n",
    "            torch.save(agent.actor_local.state_dict(), 'checkpoint_actor.pth')\n",
    "            torch.save(agent.critic_local.state_dict(), 'checkpoint_critic.pth')\n",
    "            break\n",
    "            \n",
    "    return scores"
   ]
  },
  {
   "cell_type": "code",
   "execution_count": 10,
   "metadata": {},
   "outputs": [
    {
     "name": "stdout",
     "output_type": "stream",
     "text": [
      "Episode 1\tMean Score: 0.88\tMoving Average Score: 0.88\n",
      "Episode 2\tMean Score: 1.33\tMoving Average Score: 1.11\n",
      "Episode 3\tMean Score: 1.93\tMoving Average Score: 1.38\n",
      "Episode 4\tMean Score: 2.24\tMoving Average Score: 1.60\n",
      "Episode 5\tMean Score: 1.47\tMoving Average Score: 1.57\n",
      "Episode 6\tMean Score: 0.71\tMoving Average Score: 1.43\n",
      "Episode 7\tMean Score: 1.73\tMoving Average Score: 1.47\n",
      "Episode 8\tMean Score: 2.48\tMoving Average Score: 1.60\n",
      "Episode 9\tMean Score: 2.26\tMoving Average Score: 1.67\n",
      "Episode 10\tMean Score: 2.73\tMoving Average Score: 1.78\n",
      "Episode 11\tMean Score: 2.78\tMoving Average Score: 1.87\n",
      "Episode 12\tMean Score: 3.61\tMoving Average Score: 2.01\n",
      "Episode 13\tMean Score: 5.77\tMoving Average Score: 2.30\n",
      "Episode 14\tMean Score: 5.89\tMoving Average Score: 2.56\n",
      "Episode 15\tMean Score: 5.41\tMoving Average Score: 2.75\n",
      "Episode 16\tMean Score: 6.85\tMoving Average Score: 3.00\n",
      "Episode 17\tMean Score: 8.05\tMoving Average Score: 3.30\n",
      "Episode 18\tMean Score: 9.89\tMoving Average Score: 3.67\n",
      "Episode 19\tMean Score: 8.71\tMoving Average Score: 3.93\n",
      "Episode 20\tMean Score: 10.05\tMoving Average Score: 4.24\n",
      "Episode 21\tMean Score: 9.80\tMoving Average Score: 4.50\n",
      "Episode 22\tMean Score: 11.75\tMoving Average Score: 4.83\n",
      "Episode 23\tMean Score: 10.02\tMoving Average Score: 5.06\n",
      "Episode 24\tMean Score: 10.86\tMoving Average Score: 5.30\n",
      "Episode 25\tMean Score: 10.98\tMoving Average Score: 5.53\n",
      "Episode 26\tMean Score: 12.37\tMoving Average Score: 5.79\n",
      "Episode 27\tMean Score: 12.56\tMoving Average Score: 6.04\n",
      "Episode 28\tMean Score: 12.47\tMoving Average Score: 6.27\n",
      "Episode 29\tMean Score: 10.01\tMoving Average Score: 6.40\n",
      "Episode 30\tMean Score: 8.48\tMoving Average Score: 6.47\n",
      "Episode 31\tMean Score: 7.82\tMoving Average Score: 6.51\n",
      "Episode 32\tMean Score: 5.91\tMoving Average Score: 6.49\n",
      "Episode 33\tMean Score: 5.54\tMoving Average Score: 6.47\n",
      "Episode 34\tMean Score: 5.27\tMoving Average Score: 6.43\n",
      "Episode 35\tMean Score: 6.13\tMoving Average Score: 6.42\n",
      "Episode 36\tMean Score: 6.54\tMoving Average Score: 6.42\n",
      "Episode 37\tMean Score: 7.18\tMoving Average Score: 6.45\n",
      "Episode 38\tMean Score: 6.08\tMoving Average Score: 6.44\n",
      "Episode 39\tMean Score: 6.73\tMoving Average Score: 6.44\n",
      "Episode 40\tMean Score: 8.41\tMoving Average Score: 6.49\n",
      "Episode 41\tMean Score: 8.47\tMoving Average Score: 6.54\n",
      "Episode 42\tMean Score: 9.92\tMoving Average Score: 6.62\n",
      "Episode 43\tMean Score: 8.84\tMoving Average Score: 6.67\n",
      "Episode 44\tMean Score: 12.54\tMoving Average Score: 6.81\n",
      "Episode 45\tMean Score: 10.43\tMoving Average Score: 6.89\n",
      "Episode 46\tMean Score: 12.69\tMoving Average Score: 7.01\n",
      "Episode 47\tMean Score: 13.05\tMoving Average Score: 7.14\n",
      "Episode 48\tMean Score: 12.51\tMoving Average Score: 7.25\n",
      "Episode 49\tMean Score: 14.50\tMoving Average Score: 7.40\n",
      "Episode 50\tMean Score: 14.12\tMoving Average Score: 7.54\n",
      "Episode 51\tMean Score: 16.09\tMoving Average Score: 7.70\n",
      "Episode 52\tMean Score: 14.91\tMoving Average Score: 7.84\n",
      "Episode 53\tMean Score: 14.21\tMoving Average Score: 7.96\n",
      "Episode 54\tMean Score: 14.12\tMoving Average Score: 8.08\n",
      "Episode 55\tMean Score: 13.25\tMoving Average Score: 8.17\n",
      "Episode 56\tMean Score: 10.82\tMoving Average Score: 8.22\n",
      "Episode 57\tMean Score: 12.32\tMoving Average Score: 8.29\n",
      "Episode 58\tMean Score: 13.70\tMoving Average Score: 8.38\n",
      "Episode 59\tMean Score: 15.22\tMoving Average Score: 8.50\n",
      "Episode 60\tMean Score: 16.35\tMoving Average Score: 8.63\n",
      "Episode 61\tMean Score: 16.04\tMoving Average Score: 8.75\n",
      "Episode 62\tMean Score: 14.97\tMoving Average Score: 8.85\n",
      "Episode 63\tMean Score: 16.35\tMoving Average Score: 8.97\n",
      "Episode 64\tMean Score: 19.22\tMoving Average Score: 9.13\n",
      "Episode 65\tMean Score: 18.95\tMoving Average Score: 9.28\n",
      "Episode 66\tMean Score: 19.77\tMoving Average Score: 9.44\n",
      "Episode 67\tMean Score: 18.78\tMoving Average Score: 9.58\n",
      "Episode 68\tMean Score: 20.45\tMoving Average Score: 9.74\n",
      "Episode 69\tMean Score: 19.01\tMoving Average Score: 9.87\n",
      "Episode 70\tMean Score: 21.48\tMoving Average Score: 10.04\n",
      "Episode 71\tMean Score: 21.85\tMoving Average Score: 10.21\n",
      "Episode 72\tMean Score: 22.71\tMoving Average Score: 10.38\n",
      "Episode 73\tMean Score: 23.86\tMoving Average Score: 10.56\n",
      "Episode 74\tMean Score: 22.08\tMoving Average Score: 10.72\n",
      "Episode 75\tMean Score: 23.18\tMoving Average Score: 10.89\n",
      "Episode 76\tMean Score: 19.98\tMoving Average Score: 11.01\n",
      "Episode 77\tMean Score: 19.50\tMoving Average Score: 11.12\n",
      "Episode 78\tMean Score: 18.06\tMoving Average Score: 11.21\n",
      "Episode 79\tMean Score: 20.60\tMoving Average Score: 11.32\n",
      "Episode 80\tMean Score: 20.89\tMoving Average Score: 11.44\n",
      "Episode 81\tMean Score: 19.49\tMoving Average Score: 11.54\n",
      "Episode 82\tMean Score: 20.35\tMoving Average Score: 11.65\n",
      "Episode 83\tMean Score: 20.38\tMoving Average Score: 11.76\n",
      "Episode 84\tMean Score: 21.69\tMoving Average Score: 11.87\n",
      "Episode 85\tMean Score: 23.96\tMoving Average Score: 12.02\n",
      "Episode 86\tMean Score: 25.40\tMoving Average Score: 12.17\n",
      "Episode 87\tMean Score: 23.51\tMoving Average Score: 12.30\n",
      "Episode 88\tMean Score: 21.05\tMoving Average Score: 12.40\n",
      "Episode 89\tMean Score: 18.09\tMoving Average Score: 12.47\n",
      "Episode 90\tMean Score: 18.88\tMoving Average Score: 12.54\n",
      "Episode 91\tMean Score: 20.03\tMoving Average Score: 12.62\n",
      "Episode 92\tMean Score: 17.53\tMoving Average Score: 12.67\n",
      "Episode 93\tMean Score: 15.40\tMoving Average Score: 12.70\n",
      "Episode 94\tMean Score: 16.82\tMoving Average Score: 12.75\n",
      "Episode 95\tMean Score: 16.10\tMoving Average Score: 12.78\n",
      "Episode 96\tMean Score: 16.20\tMoving Average Score: 12.82\n",
      "Episode 97\tMean Score: 18.22\tMoving Average Score: 12.87\n",
      "Episode 98\tMean Score: 19.04\tMoving Average Score: 12.94\n",
      "Episode 99\tMean Score: 20.37\tMoving Average Score: 13.01\n",
      "Episode 100\tMean Score: 23.36\tMoving Average Score: 13.11\n",
      "Episode 101\tMean Score: 21.05\tMoving Average Score: 13.32\n",
      "Episode 102\tMean Score: 23.66\tMoving Average Score: 13.54\n",
      "Episode 103\tMean Score: 25.57\tMoving Average Score: 13.77\n",
      "Episode 104\tMean Score: 26.40\tMoving Average Score: 14.02\n",
      "Episode 105\tMean Score: 28.45\tMoving Average Score: 14.29\n",
      "Episode 106\tMean Score: 30.46\tMoving Average Score: 14.58\n",
      "Episode 107\tMean Score: 32.83\tMoving Average Score: 14.89\n",
      "Episode 108\tMean Score: 30.17\tMoving Average Score: 15.17\n",
      "Episode 109\tMean Score: 31.12\tMoving Average Score: 15.46\n",
      "Episode 110\tMean Score: 30.55\tMoving Average Score: 15.74\n",
      "Episode 111\tMean Score: 31.17\tMoving Average Score: 16.02\n",
      "Episode 112\tMean Score: 33.88\tMoving Average Score: 16.33\n",
      "Episode 113\tMean Score: 34.69\tMoving Average Score: 16.61\n",
      "Episode 114\tMean Score: 33.85\tMoving Average Score: 16.89\n",
      "Episode 115\tMean Score: 34.80\tMoving Average Score: 17.19\n",
      "Episode 116\tMean Score: 35.43\tMoving Average Score: 17.47\n",
      "Episode 117\tMean Score: 36.20\tMoving Average Score: 17.76\n",
      "Episode 118\tMean Score: 36.00\tMoving Average Score: 18.02\n",
      "Episode 119\tMean Score: 34.24\tMoving Average Score: 18.27\n",
      "Episode 120\tMean Score: 34.68\tMoving Average Score: 18.52\n",
      "Episode 121\tMean Score: 36.09\tMoving Average Score: 18.78\n",
      "Episode 122\tMean Score: 35.14\tMoving Average Score: 19.01\n",
      "Episode 123\tMean Score: 36.29\tMoving Average Score: 19.28\n",
      "Episode 124\tMean Score: 33.84\tMoving Average Score: 19.51\n",
      "Episode 125\tMean Score: 33.87\tMoving Average Score: 19.74\n",
      "Episode 126\tMean Score: 36.10\tMoving Average Score: 19.97\n",
      "Episode 127\tMean Score: 34.66\tMoving Average Score: 20.19\n",
      "Episode 128\tMean Score: 35.91\tMoving Average Score: 20.43\n",
      "Episode 129\tMean Score: 34.94\tMoving Average Score: 20.68\n",
      "Episode 130\tMean Score: 35.41\tMoving Average Score: 20.95\n",
      "Episode 131\tMean Score: 34.90\tMoving Average Score: 21.22\n",
      "Episode 132\tMean Score: 34.98\tMoving Average Score: 21.51\n",
      "Episode 133\tMean Score: 34.21\tMoving Average Score: 21.80\n",
      "Episode 134\tMean Score: 36.12\tMoving Average Score: 22.10\n",
      "Episode 135\tMean Score: 35.70\tMoving Average Score: 22.40\n",
      "Episode 136\tMean Score: 36.37\tMoving Average Score: 22.70\n",
      "Episode 137\tMean Score: 36.34\tMoving Average Score: 22.99\n",
      "Episode 138\tMean Score: 34.67\tMoving Average Score: 23.28\n",
      "Episode 139\tMean Score: 35.68\tMoving Average Score: 23.57\n",
      "Episode 140\tMean Score: 35.12\tMoving Average Score: 23.83\n",
      "Episode 141\tMean Score: 33.18\tMoving Average Score: 24.08\n",
      "Episode 142\tMean Score: 36.18\tMoving Average Score: 24.34\n",
      "Episode 143\tMean Score: 35.12\tMoving Average Score: 24.60\n",
      "Episode 144\tMean Score: 35.67\tMoving Average Score: 24.84\n",
      "Episode 145\tMean Score: 34.90\tMoving Average Score: 25.08\n"
     ]
    },
    {
     "name": "stdout",
     "output_type": "stream",
     "text": [
      "Episode 146\tMean Score: 30.57\tMoving Average Score: 25.26\n",
      "Episode 147\tMean Score: 32.83\tMoving Average Score: 25.46\n",
      "Episode 148\tMean Score: 32.51\tMoving Average Score: 25.66\n",
      "Episode 149\tMean Score: 31.86\tMoving Average Score: 25.83\n",
      "Episode 150\tMean Score: 34.78\tMoving Average Score: 26.04\n",
      "Episode 151\tMean Score: 30.62\tMoving Average Score: 26.18\n",
      "Episode 152\tMean Score: 30.09\tMoving Average Score: 26.33\n",
      "Episode 153\tMean Score: 30.71\tMoving Average Score: 26.50\n",
      "Episode 154\tMean Score: 34.78\tMoving Average Score: 26.71\n",
      "Episode 155\tMean Score: 34.14\tMoving Average Score: 26.92\n",
      "Episode 156\tMean Score: 33.30\tMoving Average Score: 27.14\n",
      "Episode 157\tMean Score: 35.15\tMoving Average Score: 27.37\n",
      "Episode 158\tMean Score: 31.54\tMoving Average Score: 27.55\n",
      "Episode 159\tMean Score: 34.19\tMoving Average Score: 27.74\n",
      "Episode 160\tMean Score: 35.37\tMoving Average Score: 27.93\n",
      "Episode 161\tMean Score: 36.93\tMoving Average Score: 28.14\n",
      "Episode 162\tMean Score: 34.80\tMoving Average Score: 28.33\n",
      "Episode 163\tMean Score: 32.44\tMoving Average Score: 28.49\n",
      "Episode 164\tMean Score: 29.53\tMoving Average Score: 28.60\n",
      "Episode 165\tMean Score: 35.53\tMoving Average Score: 28.76\n",
      "Episode 166\tMean Score: 33.65\tMoving Average Score: 28.90\n",
      "Episode 167\tMean Score: 35.21\tMoving Average Score: 29.07\n",
      "Episode 168\tMean Score: 32.61\tMoving Average Score: 29.19\n",
      "Episode 169\tMean Score: 22.14\tMoving Average Score: 29.22\n",
      "Episode 170\tMean Score: 27.86\tMoving Average Score: 29.28\n",
      "Episode 171\tMean Score: 32.32\tMoving Average Score: 29.39\n",
      "Episode 172\tMean Score: 34.20\tMoving Average Score: 29.50\n",
      "Episode 173\tMean Score: 35.20\tMoving Average Score: 29.62\n",
      "Episode 174\tMean Score: 32.26\tMoving Average Score: 29.72\n",
      "Episode 175\tMean Score: 32.41\tMoving Average Score: 29.81\n",
      "Episode 176\tMean Score: 35.00\tMoving Average Score: 29.96\n",
      "Episode 177\tMean Score: 35.78\tMoving Average Score: 30.12\n",
      "\n",
      "Environment solved in 177 Episodes \tAverage Score: 30.12\n"
     ]
    }
   ],
   "source": [
    "with active_session():\n",
    "    scores = ddpg(n_episodes = 1000)"
   ]
  },
  {
   "cell_type": "code",
   "execution_count": 11,
   "metadata": {},
   "outputs": [
    {
     "data": {
      "image/png": "[encoded data removed]",
      "text/plain": [
       "<matplotlib.figure.Figure at 0x7f69e77ac748>"
      ]
     },
     "metadata": {
      "needs_background": "light"
     },
     "output_type": "display_data"
    }
   ],
   "source": [
    "# plot the scores\n",
    "fig = plt.figure(figsize=(10,8))\n",
    "ax = fig.add_subplot(111)\n",
    "plt.plot(np.arange(1, len(scores)+1), scores)\n",
    "plt.title('Continuous Control: Score vs Episodes')\n",
    "plt.ylabel('Score')\n",
    "plt.xlabel('Episode #')\n",
    "plt.grid(True)\n",
    "plt.savefig(\"score.jpg\")\n",
    "plt.show()"
   ]
  },
  {
   "cell_type": "code",
   "execution_count": 12,
   "metadata": {},
   "outputs": [],
   "source": [
    "env.close()"
   ]
  },
  {
   "cell_type": "code",
   "execution_count": null,
   "metadata": {},
   "outputs": [],
   "source": []
  }
 ],
 "metadata": {
  "kernelspec": {
   "display_name": "Python 3",
   "language": "python",
   "name": "python3"
  },
  "language_info": {
   "codemirror_mode": {
    "name": "ipython",
    "version": 3
   },
   "file_extension": ".py",
   "mimetype": "text/x-python",
   "name": "python",
   "nbconvert_exporter": "python",
   "pygments_lexer": "ipython3",
   "version": "3.6.3"
  }
 },
 "nbformat": 4,
 "nbformat_minor": 2
}
